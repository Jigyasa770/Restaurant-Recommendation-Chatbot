{
  "cells": [
    {
      "cell_type": "markdown",
      "metadata": {
        "id": "uY1ha-IquNFx"
      },
      "source": [
        "# Lecture live chat\n",
        "\n",
        "To allow anonymous chat, response and polling, I'm going to try the jit.si chatroom here:\n",
        "\n",
        "https://meet.jit.si/CCP5PythonPit\n",
        "\n",
        "Join if you want to respond to the polls, or anonymously ask questions (choose a funny username if you go anonymous). You can ignore the camera/microphone permission if you like. Alternatively, you can of course just talk in the class, although my experience shows this is rare in large classes."
      ]
    },
    {
      "cell_type": "code",
      "source": [
        "import nltk\n",
        "nltk.download('punkt')\n",
        "\n"
      ],
      "metadata": {
        "id": "RFCS2OthuTHn",
        "outputId": "fecaaced-b1d1-4e65-84d6-0a5c11bbefe6",
        "colab": {
          "base_uri": "https://localhost:8080/"
        }
      },
      "execution_count": 4,
      "outputs": [
        {
          "output_type": "stream",
          "name": "stderr",
          "text": [
            "[nltk_data] Downloading package punkt to /root/nltk_data...\n",
            "[nltk_data]   Package punkt is already up-to-date!\n"
          ]
        },
        {
          "output_type": "execute_result",
          "data": {
            "text/plain": [
              "True"
            ]
          },
          "metadata": {},
          "execution_count": 4
        }
      ]
    },
    {
      "cell_type": "code",
      "source": [
        "# Importing necessary libraries\n",
        "import nltk\n",
        "from nltk.tokenize import word_tokenize\n",
        "from nltk.corpus import stopwords\n",
        "from collections import Counter\n",
        "import random\n",
        "\n",
        "# Sample restaurant data\n",
        "restaurants = [\n",
        "    {\"name\": \"Restaurant A\", \"cuisine\": \"Italian\", \"location\": \"Downtown\", \"price_range\": \"$$$\", \"rating\": 4.5},\n",
        "    {\"name\": \"Restaurant B\", \"cuisine\": \"Mexican\", \"location\": \"Midtown\", \"price_range\": \"$$\", \"rating\": 4.0},\n",
        "    {\"name\": \"Restaurant C\", \"cuisine\": \"Chinese\", \"location\": \"Uptown\", \"price_range\": \"$\", \"rating\": 4.2}\n",
        "]\n",
        "\n",
        "# Preprocessing user input\n",
        "def preprocess_input(input_text):\n",
        "    tokens = word_tokenize(input_text.lower())\n",
        "    stop_words = set(stopwords.words('english'))\n",
        "    filtered_tokens = [token for token in tokens if token.isalnum() and token not in stop_words]\n",
        "    return filtered_tokens\n",
        "\n",
        "# Restaurant recommendation function\n",
        "def recommend_restaurant(user_input):\n",
        "    user_tokens = preprocess_input(user_input)\n",
        "    # Simple rule-based recommendation (random selection)\n",
        "    recommended_restaurant = random.choice(restaurants)\n",
        "    return recommended_restaurant\n",
        "\n",
        "# User interaction loop\n",
        "while True:\n",
        "    user_input = input(\"User: \")\n",
        "    if user_input.lower() == 'exit':\n",
        "        print(\"Chatbot: Goodbye!\")\n",
        "        break\n",
        "    recommended_restaurant = recommend_restaurant(user_input)\n",
        "    print(\"Chatbot: I recommend {} located in {} for {} cuisine. It has a rating of {}.\".format(\n",
        "        recommended_restaurant[\"name\"], recommended_restaurant[\"location\"], recommended_restaurant[\"cuisine\"],\n",
        "        recommended_restaurant[\"rating\"]))\n"
      ],
      "metadata": {
        "id": "f5NOfNdqxW93",
        "outputId": "5caccc68-16b6-42c6-b06f-14f07edc50be",
        "colab": {
          "base_uri": "https://localhost:8080/"
        }
      },
      "execution_count": 6,
      "outputs": [
        {
          "output_type": "stream",
          "name": "stdout",
          "text": [
            "User: Can you suggest a restaurant for Italian food?\n",
            "Chatbot: I recommend Restaurant C located in Uptown for Chinese cuisine. It has a rating of 4.2.\n",
            "User: What about Mexican food in a mid-range budget?\n",
            "Chatbot: I recommend Restaurant C located in Uptown for Chinese cuisine. It has a rating of 4.2.\n",
            "User: exit\n",
            "Chatbot: Goodbye!\n"
          ]
        }
      ]
    },
    {
      "cell_type": "markdown",
      "metadata": {
        "id": "rTTdYpnazP68"
      },
      "source": [
        "# Tutorial contents\n",
        "\n",
        "Every programming tutorial is like this:\n",
        "![How to draw an owl. Draw two circles. Then draw the rest of the owl.](https://github.com/toastedcrumpets/CCP5_Python_examples/blob/master/owlanomics.png?raw=1)\n",
        "\n",
        "This is no different, it is the nature of the problem. Learning programming is exactly like playing music, the good and the bad.\n",
        "As you start to learn music/code, your music/code will not work at first, then it will sound/run terrible, but you must practice and learn to \"fail upwards\" by learning what \"sounds\"/runs nice.\n",
        "\n",
        "A massive aspect is learning how you fail, coding is 1/3rds programming, then 2/3rds finding the errors/unconsidered-complications. Good programmers still make many mistakes, they just write code so the mistakes are obvious and easy to find.\n",
        "\n",
        "Eventually you will become a maestro with practice, and will be able to improv code that makes your non-programmer friends stare in amazement. Fair warning though, music might help you make more friends, but programming will make computers do your work for you so you have more time for the finer aspects of life.\n",
        "\n",
        "I cannot hope to teach you everything about programming in two-days, so I hope to show you a quick overview, teach you very carefully the hardest part of python (the reference/side-affects/spooky action at a distance). Finally, we'll talk about examples, as you'll probably eventually learn programming from googling your problem and reading other peoples code.\n",
        "\n",
        "<br/>\n",
        "<center><b>Please give me suggestions of interesting things to code! I will code them for you as an example.</b></center>\n",
        "\n",
        "Everything in here is code/an-example, you can edit these pages, change them, rerun the code. You must do this, break it, learn how to understand your errors, then learn how to put it back together in interesting ways.\n",
        "\n",
        "## Drawing two circles\n",
        "* [Installing python](https://colab.research.google.com/github/toastedcrumpets/CCP5_Python_examples/blob/master/00-Installing_python.ipynb)\n",
        "* [Introduction to python](https://colab.research.google.com/github/toastedcrumpets/CCP5_Python_examples/blob/master/01-Introduction.ipynb)\n",
        "* [Variable scope (and calculating prime numbers)](https://colab.research.google.com/github/toastedcrumpets/CCP5_Python_examples/blob/master/02-Variable%20scope%20(calclulating%20prime%20numbers).ipynb)\n",
        "* [Calculating $\\pi$](https://colab.research.google.com/github/toastedcrumpets/CCP5_Python_examples/blob/master/03-Calculating%20pi.ipynb)\n",
        "* [Handling errors (AKA Fantastic Exceptions and where to find them)](https://colab.research.google.com/github/toastedcrumpets/CCP5_Python_examples/blob/master/04-Errors%20(Fantastic%20Exceptions%20and%20where%20to%20find%20them).ipynb)\n",
        "* [List comprehensions, lambdas, and running other programs](https://colab.research.google.com/github/toastedcrumpets/CCP5_Python_examples/blob/master/07-List%20comprehensions%2C%20lambdas%2C%20and%20running%20other%20programs.ipynb)\n",
        "\n",
        "## The rest of python\n",
        "\n",
        "* [Example: Stock/Data analysis using Pandas](https://colab.research.google.com/github/toastedcrumpets/CCP5_Python_examples/blob/master/05-%20Example%2C%20Stock%20analysis%20using%20pandas.ipynb)\n",
        "* [Example: Molecular dynamics in python](https://colab.research.google.com/github/toastedcrumpets/CCP5_Python_examples/blob/master/06-%20Example%2C%20Molecular%20dynamics%20simulations.ipynb)\n",
        "* [Appendix: Snippets of python code (request anything you like!)](https://colab.research.google.com/github/toastedcrumpets/CCP5_Python_examples/blob/master/Appendix-A-Snippets.ipynb)\n",
        "* [Appendix: Monte Carlo calculation of PI with animation](https://colab.research.google.com/github/toastedcrumpets/CCP5_Python_examples/blob/master/Appendix-B-%20Monte%20Carlo%20class%20examples.ipynb)\n",
        "* [Dall-E notebooks for image generation](https://alpha2phi.medium.com/generate-image-from-text-c84daaddd75b)\n",
        "* [Music generation from facebook](https://huggingface.co/spaces/facebook/MusicGen) (see the repo for the collab links)\n",
        "\n",
        "## For more examples, ask me to program something you need!"
      ]
    },
    {
      "cell_type": "markdown",
      "metadata": {
        "id": "U-GUHa6YuNFz"
      },
      "source": []
    }
  ],
  "metadata": {
    "colab": {
      "name": "Table of contents for collab.research.google.com.ipynb",
      "provenance": []
    },
    "kernelspec": {
      "display_name": "Python 3 (ipykernel)",
      "language": "python",
      "name": "python3"
    },
    "language_info": {
      "codemirror_mode": {
        "name": "ipython",
        "version": 3
      },
      "file_extension": ".py",
      "mimetype": "text/x-python",
      "name": "python",
      "nbconvert_exporter": "python",
      "pygments_lexer": "ipython3",
      "version": "3.10.6"
    }
  },
  "nbformat": 4,
  "nbformat_minor": 0
}